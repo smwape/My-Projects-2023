{
 "cells": [
  {
   "cell_type": "markdown",
   "id": "009af8cc",
   "metadata": {},
   "source": [
    "This notebook allows us to split names and add customized domains or email domain"
   ]
  },
  {
   "cell_type": "code",
   "execution_count": 2,
   "id": "509094eb",
   "metadata": {},
   "outputs": [],
   "source": [
    "# Importing Required Libraries\n",
    "import pandas as pd"
   ]
  },
  {
   "cell_type": "code",
   "execution_count": 4,
   "id": "7de28196",
   "metadata": {},
   "outputs": [
    {
     "data": {
      "text/html": [
       "<div>\n",
       "<style scoped>\n",
       "    .dataframe tbody tr th:only-of-type {\n",
       "        vertical-align: middle;\n",
       "    }\n",
       "\n",
       "    .dataframe tbody tr th {\n",
       "        vertical-align: top;\n",
       "    }\n",
       "\n",
       "    .dataframe thead th {\n",
       "        text-align: right;\n",
       "    }\n",
       "</style>\n",
       "<table border=\"1\" class=\"dataframe\">\n",
       "  <thead>\n",
       "    <tr style=\"text-align: right;\">\n",
       "      <th></th>\n",
       "      <th>Name</th>\n",
       "    </tr>\n",
       "  </thead>\n",
       "  <tbody>\n",
       "    <tr>\n",
       "      <th>0</th>\n",
       "      <td>Tonny Simbaya</td>\n",
       "    </tr>\n",
       "    <tr>\n",
       "      <th>1</th>\n",
       "      <td>Eskaya Malenji</td>\n",
       "    </tr>\n",
       "    <tr>\n",
       "      <th>2</th>\n",
       "      <td>Nchimunya Mweetwa</td>\n",
       "    </tr>\n",
       "    <tr>\n",
       "      <th>3</th>\n",
       "      <td>Katongo Katongo</td>\n",
       "    </tr>\n",
       "    <tr>\n",
       "      <th>4</th>\n",
       "      <td>Malvin Sheleni</td>\n",
       "    </tr>\n",
       "    <tr>\n",
       "      <th>...</th>\n",
       "      <td>...</td>\n",
       "    </tr>\n",
       "    <tr>\n",
       "      <th>56</th>\n",
       "      <td>Bernadette Chikasa</td>\n",
       "    </tr>\n",
       "    <tr>\n",
       "      <th>57</th>\n",
       "      <td>Freddie Yamba</td>\n",
       "    </tr>\n",
       "    <tr>\n",
       "      <th>58</th>\n",
       "      <td>Moreblessings Chilombo</td>\n",
       "    </tr>\n",
       "    <tr>\n",
       "      <th>59</th>\n",
       "      <td>ZIMASA DWETYE</td>\n",
       "    </tr>\n",
       "    <tr>\n",
       "      <th>60</th>\n",
       "      <td>FRANCIS CHIBUYE</td>\n",
       "    </tr>\n",
       "  </tbody>\n",
       "</table>\n",
       "<p>61 rows × 1 columns</p>\n",
       "</div>"
      ],
      "text/plain": [
       "                      Name\n",
       "0            Tonny Simbaya\n",
       "1           Eskaya Malenji\n",
       "2        Nchimunya Mweetwa\n",
       "3          Katongo Katongo\n",
       "4           Malvin Sheleni\n",
       "..                     ...\n",
       "56      Bernadette Chikasa\n",
       "57           Freddie Yamba\n",
       "58  Moreblessings Chilombo\n",
       "59           ZIMASA DWETYE\n",
       "60         FRANCIS CHIBUYE\n",
       "\n",
       "[61 rows x 1 columns]"
      ]
     },
     "execution_count": 4,
     "metadata": {},
     "output_type": "execute_result"
    }
   ],
   "source": [
    "df = pd.read_csv(\"Book1.csv\")\n",
    "df"
   ]
  },
  {
   "cell_type": "code",
   "execution_count": 7,
   "id": "1554fbb9",
   "metadata": {},
   "outputs": [],
   "source": [
    "# Step 4: Separate full name into first name and last name\n",
    "# df[['First Name', 'Last Name']] = df['Name'].str.split(expand=True)"
   ]
  },
  {
   "cell_type": "code",
   "execution_count": 8,
   "id": "dc09c49b",
   "metadata": {},
   "outputs": [],
   "source": [
    "# Step 4: Separate full name into first name and last name\n",
    "names_split = df['Name'].str.split(expand=True)"
   ]
  },
  {
   "cell_type": "code",
   "execution_count": 9,
   "id": "bb2b71dc",
   "metadata": {},
   "outputs": [],
   "source": [
    "# Check if the split resulted in two columns\n",
    "if len(names_split.columns) == 2:\n",
    "    df[['First Name', 'Last Name']] = names_split\n",
    "else:\n",
    "    # Handle rows with missing or irregular data (replace with empty strings)\n",
    "    df['First Name'] = names_split[0]\n",
    "    df['Last Name'] = names_split[1].fillna('')"
   ]
  },
  {
   "cell_type": "code",
   "execution_count": 10,
   "id": "d09919ce",
   "metadata": {},
   "outputs": [],
   "source": [
    "# Step 5: Drop the original \"Full Name\" column (optional)\n",
    "df.drop(columns=['Name'], inplace=True)"
   ]
  },
  {
   "cell_type": "code",
   "execution_count": 11,
   "id": "964763fa",
   "metadata": {},
   "outputs": [],
   "source": [
    "# Step 6: Save the DataFrame back to a .csv file (optional)\n",
    "df.to_csv('modified_data.csv', index=False)"
   ]
  },
  {
   "cell_type": "code",
   "execution_count": 12,
   "id": "bebe3d48",
   "metadata": {},
   "outputs": [
    {
     "name": "stdout",
     "output_type": "stream",
     "text": [
      "       First Name Last Name\n",
      "0           Tonny   Simbaya\n",
      "1          Eskaya   Malenji\n",
      "2       Nchimunya   Mweetwa\n",
      "3         Katongo   Katongo\n",
      "4          Malvin   Sheleni\n",
      "..            ...       ...\n",
      "56     Bernadette   Chikasa\n",
      "57        Freddie     Yamba\n",
      "58  Moreblessings  Chilombo\n",
      "59         ZIMASA    DWETYE\n",
      "60        FRANCIS   CHIBUYE\n",
      "\n",
      "[61 rows x 2 columns]\n"
     ]
    }
   ],
   "source": [
    "# Optional: Display the DataFrame\n",
    "print(df)"
   ]
  },
  {
   "cell_type": "code",
   "execution_count": 17,
   "id": "ee0de88a",
   "metadata": {},
   "outputs": [],
   "source": [
    "def format_name(row):\n",
    "    first_name = row[\"First Name\"].replace(\" \", \".\")\n",
    "    last_name = row[\"Last Name\"].replace(\" \", \".\")\n",
    "    return f\"{first_name}.{last_name}@idc.co.zm\".lower()\n",
    "\n",
    "df[\"Email\"] = df.apply(format_name, axis=1)\n"
   ]
  },
  {
   "cell_type": "code",
   "execution_count": 20,
   "id": "fc407c2f",
   "metadata": {},
   "outputs": [],
   "source": [
    "# Dropping a column name\n",
    "df = df.drop(columns=['Formatted Name'])"
   ]
  },
  {
   "cell_type": "code",
   "execution_count": 22,
   "id": "59569463",
   "metadata": {},
   "outputs": [],
   "source": [
    "# Step 6: Save the DataFrame back to a .csv file (optional)\n",
    "df.to_csv('modified_data.csv', index=False)"
   ]
  },
  {
   "cell_type": "code",
   "execution_count": 23,
   "id": "aa706c6e",
   "metadata": {},
   "outputs": [
    {
     "data": {
      "text/html": [
       "<div>\n",
       "<style scoped>\n",
       "    .dataframe tbody tr th:only-of-type {\n",
       "        vertical-align: middle;\n",
       "    }\n",
       "\n",
       "    .dataframe tbody tr th {\n",
       "        vertical-align: top;\n",
       "    }\n",
       "\n",
       "    .dataframe thead th {\n",
       "        text-align: right;\n",
       "    }\n",
       "</style>\n",
       "<table border=\"1\" class=\"dataframe\">\n",
       "  <thead>\n",
       "    <tr style=\"text-align: right;\">\n",
       "      <th></th>\n",
       "      <th>First Name</th>\n",
       "      <th>Last Name</th>\n",
       "      <th>Email</th>\n",
       "    </tr>\n",
       "  </thead>\n",
       "  <tbody>\n",
       "    <tr>\n",
       "      <th>0</th>\n",
       "      <td>Tonny</td>\n",
       "      <td>Simbaya</td>\n",
       "      <td>tonny.simbaya@idc.co.zm</td>\n",
       "    </tr>\n",
       "    <tr>\n",
       "      <th>1</th>\n",
       "      <td>Eskaya</td>\n",
       "      <td>Malenji</td>\n",
       "      <td>eskaya.malenji@idc.co.zm</td>\n",
       "    </tr>\n",
       "    <tr>\n",
       "      <th>2</th>\n",
       "      <td>Nchimunya</td>\n",
       "      <td>Mweetwa</td>\n",
       "      <td>nchimunya.mweetwa@idc.co.zm</td>\n",
       "    </tr>\n",
       "    <tr>\n",
       "      <th>3</th>\n",
       "      <td>Katongo</td>\n",
       "      <td>Katongo</td>\n",
       "      <td>katongo.katongo@idc.co.zm</td>\n",
       "    </tr>\n",
       "    <tr>\n",
       "      <th>4</th>\n",
       "      <td>Malvin</td>\n",
       "      <td>Sheleni</td>\n",
       "      <td>malvin.sheleni@idc.co.zm</td>\n",
       "    </tr>\n",
       "    <tr>\n",
       "      <th>...</th>\n",
       "      <td>...</td>\n",
       "      <td>...</td>\n",
       "      <td>...</td>\n",
       "    </tr>\n",
       "    <tr>\n",
       "      <th>56</th>\n",
       "      <td>Bernadette</td>\n",
       "      <td>Chikasa</td>\n",
       "      <td>bernadette.chikasa@idc.co.zm</td>\n",
       "    </tr>\n",
       "    <tr>\n",
       "      <th>57</th>\n",
       "      <td>Freddie</td>\n",
       "      <td>Yamba</td>\n",
       "      <td>freddie.yamba@idc.co.zm</td>\n",
       "    </tr>\n",
       "    <tr>\n",
       "      <th>58</th>\n",
       "      <td>Moreblessings</td>\n",
       "      <td>Chilombo</td>\n",
       "      <td>moreblessings.chilombo@idc.co.zm</td>\n",
       "    </tr>\n",
       "    <tr>\n",
       "      <th>59</th>\n",
       "      <td>ZIMASA</td>\n",
       "      <td>DWETYE</td>\n",
       "      <td>zimasa.dwetye@idc.co.zm</td>\n",
       "    </tr>\n",
       "    <tr>\n",
       "      <th>60</th>\n",
       "      <td>FRANCIS</td>\n",
       "      <td>CHIBUYE</td>\n",
       "      <td>francis.chibuye@idc.co.zm</td>\n",
       "    </tr>\n",
       "  </tbody>\n",
       "</table>\n",
       "<p>61 rows × 3 columns</p>\n",
       "</div>"
      ],
      "text/plain": [
       "       First Name Last Name                             Email\n",
       "0           Tonny   Simbaya           tonny.simbaya@idc.co.zm\n",
       "1          Eskaya   Malenji          eskaya.malenji@idc.co.zm\n",
       "2       Nchimunya   Mweetwa       nchimunya.mweetwa@idc.co.zm\n",
       "3         Katongo   Katongo         katongo.katongo@idc.co.zm\n",
       "4          Malvin   Sheleni          malvin.sheleni@idc.co.zm\n",
       "..            ...       ...                               ...\n",
       "56     Bernadette   Chikasa      bernadette.chikasa@idc.co.zm\n",
       "57        Freddie     Yamba           freddie.yamba@idc.co.zm\n",
       "58  Moreblessings  Chilombo  moreblessings.chilombo@idc.co.zm\n",
       "59         ZIMASA    DWETYE           zimasa.dwetye@idc.co.zm\n",
       "60        FRANCIS   CHIBUYE         francis.chibuye@idc.co.zm\n",
       "\n",
       "[61 rows x 3 columns]"
      ]
     },
     "execution_count": 23,
     "metadata": {},
     "output_type": "execute_result"
    }
   ],
   "source": [
    "df"
   ]
  },
  {
   "cell_type": "code",
   "execution_count": null,
   "id": "f69d7331",
   "metadata": {},
   "outputs": [],
   "source": []
  }
 ],
 "metadata": {
  "kernelspec": {
   "display_name": "Python 3 (ipykernel)",
   "language": "python",
   "name": "python3"
  },
  "language_info": {
   "codemirror_mode": {
    "name": "ipython",
    "version": 3
   },
   "file_extension": ".py",
   "mimetype": "text/x-python",
   "name": "python",
   "nbconvert_exporter": "python",
   "pygments_lexer": "ipython3",
   "version": "3.11.4"
  }
 },
 "nbformat": 4,
 "nbformat_minor": 5
}
